{
 "cells": [
  {
   "cell_type": "markdown",
   "id": "fc9efed3-3cc7-4225-9406-e8bb8d2d9727",
   "metadata": {},
   "source": [
    "# Import Libraries"
   ]
  },
  {
   "cell_type": "code",
   "execution_count": null,
   "id": "8fbca352-930f-499f-953e-cc4cb7704375",
   "metadata": {},
   "outputs": [],
   "source": [
    "import os\n",
    "os.environ[\"TF_CPP_MIN_LOG_LEVEL\"] = \"3\"\n",
    "\n",
    "import cv2\n",
    "import tqdm\n",
    "import numpy as np\n",
    "import pandas as pd\n",
    "import matplotlib.pyplot as plt\n",
    "\n",
    "import tensorflow as tf\n",
    "from tensorflow.keras import layers, models, optimizers, callbacks\n",
    "from tensorflow.keras.utils import plot_model, img_to_array\n",
    "\n",
    "from IPython import display\n",
    "from PIL import Image"
   ]
  },
  {
   "cell_type": "markdown",
   "id": "c502afb4-26c7-45b7-9e71-2eeee25a70a3",
   "metadata": {},
   "source": [
    "# Load Data"
   ]
  },
  {
   "cell_type": "code",
   "execution_count": null,
   "id": "d97d18d6-0961-4ce2-aa01-856f22256b9a",
   "metadata": {},
   "outputs": [],
   "source": [
    "high_res_train_images_path = \"/mnt/d/Datasets/image-super-resolution/train/high_res\"\n",
    "low_res_train_images_path = \"/mnt/d/Datasets/image-super-resolution/train/low_res\""
   ]
  },
  {
   "cell_type": "code",
   "execution_count": null,
   "id": "bdcc83a4-c140-4aab-b915-263fe43af66a",
   "metadata": {},
   "outputs": [],
   "source": [
    "high_res_test_images_path = \"/mnt/d/Datasets/image-super-resolution/val/high_res\"\n",
    "low_res_test_images_path = \"/mnt/d/Datasets/image-super-resolution/val/low_res\""
   ]
  },
  {
   "cell_type": "code",
   "execution_count": null,
   "id": "db6b9273-eafb-4ad1-b43d-40136154aec0",
   "metadata": {},
   "outputs": [],
   "source": [
    "SIZE = 256"
   ]
  },
  {
   "cell_type": "code",
   "execution_count": null,
   "id": "7901ab30-40e3-492a-a8ae-33840ac871ba",
   "metadata": {},
   "outputs": [],
   "source": [
    "def load_images(path, size=224, count=None):\n",
    "    if count == None:\n",
    "        files = os.listdir(path)\n",
    "    else:\n",
    "        files = os.listdir(path)[:count]\n",
    "    images = []\n",
    "\n",
    "    for file in tqdm.tqdm(files):\n",
    "        img_path = os.path.join(path, file)\n",
    "        img = cv2.imread(img_path)\n",
    "        img = cv2.cvtColor(img, cv2.COLOR_BGR2RGB)\n",
    "        img = cv2.resize(img, (size, size))\n",
    "        img = img.astype(\"float32\") / 255.\n",
    "        img = img_to_array(img)\n",
    "        images.append(img)\n",
    "\n",
    "    images = np.array(images)\n",
    "    return images"
   ]
  },
  {
   "cell_type": "code",
   "execution_count": null,
   "id": "76918fa5-564e-4158-b003-2d6b40e05683",
   "metadata": {},
   "outputs": [],
   "source": [
    "train_low_images = load_images(low_res_train_images_path, size=SIZE)"
   ]
  },
  {
   "cell_type": "code",
   "execution_count": null,
   "id": "83e977dd-fe42-4410-a86f-d8205f9bae42",
   "metadata": {},
   "outputs": [],
   "source": [
    "train_high_images = load_images(high_res_train_images_path, size=SIZE)"
   ]
  },
  {
   "cell_type": "code",
   "execution_count": null,
   "id": "113cc4da-b432-45ed-b261-c2f2810ff1ad",
   "metadata": {},
   "outputs": [],
   "source": [
    "test_low_images = load_images(low_res_test_images_path, size=SIZE)"
   ]
  },
  {
   "cell_type": "code",
   "execution_count": null,
   "id": "34e1362a-676a-42ca-90f4-aaf7206d36f3",
   "metadata": {},
   "outputs": [],
   "source": [
    "test_high_images = load_images(high_res_test_images_path, size=SIZE)"
   ]
  },
  {
   "cell_type": "markdown",
   "id": "92874ea6-44aa-48f2-be6f-446d8c0f9d3a",
   "metadata": {},
   "source": [
    "# Visualization"
   ]
  },
  {
   "cell_type": "code",
   "execution_count": null,
   "id": "de41be2f-beed-4f42-961d-d976ba78c241",
   "metadata": {},
   "outputs": [],
   "source": [
    "fig, axes = plt.subplots(nrows=1, ncols=2, figsize=(8, 5))\n",
    "\n",
    "axes[0].imshow(train_low_images[10])\n",
    "axes[0].set_title(\"Low-Resolution Image\")\n",
    "axes[0].axis(\"off\")\n",
    "\n",
    "axes[1].imshow(train_high_images[10])\n",
    "axes[1].set_title(\"High-Resolution Image\")\n",
    "axes[1].axis(\"off\")\n",
    "\n",
    "plt.show()"
   ]
  },
  {
   "cell_type": "markdown",
   "id": "40a1ebd0-2ea9-4876-94a7-ce92b13c870c",
   "metadata": {},
   "source": [
    "# Model"
   ]
  },
  {
   "cell_type": "code",
   "execution_count": null,
   "id": "3a090443-6d0a-499f-a028-a320cd926c04",
   "metadata": {},
   "outputs": [],
   "source": [
    "def down_block(x, filters, kernel_size, apply_batch_normalization=True):\n",
    "    x = layers.Conv2D(filters, kernel_size, padding=\"same\", strides=2)(x)\n",
    "    if apply_batch_normalization:\n",
    "        x = layers.BatchNormalization()(x)\n",
    "\n",
    "    x = layers.LeakyReLU()(x)\n",
    "    return x"
   ]
  },
  {
   "cell_type": "code",
   "execution_count": null,
   "id": "5d2353b6-a46a-4d4b-a1ba-e23bfbbcba68",
   "metadata": {},
   "outputs": [],
   "source": [
    "def up_block(x, skip, filters, kernel_size, dropout=False):\n",
    "    x = layers.Conv2DTranspose(filters, kernel_size, padding=\"same\", strides=2)(x)\n",
    "    if dropout:\n",
    "        x = layers.Dropout(0.1)(x)\n",
    "\n",
    "    x = layers.LeakyReLU()(x)\n",
    "    x = layers.concatenate([x, skip])\n",
    "    return x"
   ]
  },
  {
   "cell_type": "code",
   "execution_count": null,
   "id": "501a1b85-0c5b-46c4-9cd0-952b5fb3d1db",
   "metadata": {},
   "outputs": [],
   "source": [
    "def build_model(size):\n",
    "    inputs = layers.Input(shape=[size, size, 3])\n",
    "\n",
    "    # Downsampling\n",
    "    d1 = down_block(inputs, 128, (3, 3), apply_batch_normalization=False)\n",
    "    d2 = down_block(d1, 128, (3, 3), apply_batch_normalization=False)\n",
    "    d3 = down_block(d2, 256, (3, 3), apply_batch_normalization=True)\n",
    "    d4 = down_block(d3, 512, (3, 3), apply_batch_normalization=True)\n",
    "    d5 = down_block(d4, 512, (3, 3), apply_batch_normalization=True)\n",
    "\n",
    "    # Upsampling\n",
    "    u1 = up_block(d5, d4, 512, (3, 3), dropout=False)\n",
    "    u2 = up_block(u1, d3, 256, (3, 3), dropout=False)\n",
    "    u3 = up_block(u2, d2, 128, (3, 3), dropout=False)\n",
    "    u4 = up_block(u3, d1, 128, (3, 3), dropout=False)\n",
    "\n",
    "    # Final upsampling\n",
    "    u5 = layers.Conv2DTranspose(3, (3, 3), padding='same', strides=2)(u4)\n",
    "    u5 = layers.LeakyReLU()(u5)\n",
    "    u5 = layers.concatenate([u5, inputs])\n",
    "\n",
    "    # Output layer\n",
    "    outputs = layers.Conv2D(3, (2, 2), padding='same', strides=1)(u5)\n",
    "    return tf.keras.Model(inputs=inputs, outputs=outputs)"
   ]
  },
  {
   "cell_type": "code",
   "execution_count": null,
   "id": "020b9f4f-5b2f-482b-b5f2-43be910fd74c",
   "metadata": {},
   "outputs": [],
   "source": [
    "model = build_model(size=SIZE)"
   ]
  },
  {
   "cell_type": "code",
   "execution_count": null,
   "id": "fa2a3b03-b004-4639-bb8b-9a075f7fc638",
   "metadata": {},
   "outputs": [],
   "source": [
    "model.summary()"
   ]
  },
  {
   "cell_type": "code",
   "execution_count": null,
   "id": "2b4d7dac-7173-4ed1-a314-3f8fca801c5c",
   "metadata": {},
   "outputs": [],
   "source": [
    "plot_model(model, show_shapes=True, show_layer_names=True)"
   ]
  },
  {
   "cell_type": "markdown",
   "id": "61ce9083-b55a-4ff4-a7ff-2c21d983d692",
   "metadata": {},
   "source": [
    "# Train"
   ]
  },
  {
   "cell_type": "code",
   "execution_count": null,
   "id": "a37cd61c-c571-4b8f-9271-065af3a421d0",
   "metadata": {},
   "outputs": [],
   "source": [
    "def psnr_metric(y_true, y_pred, max_val=255):\n",
    "    mse = tf.reduce_mean(tf.square(y_true - y_pred))\n",
    "    psnr = 10.0 * tf.math.log((max_val ** 2) / mse) / tf.math.log(10.0)\n",
    "    return psnr"
   ]
  },
  {
   "cell_type": "code",
   "execution_count": null,
   "id": "50ba4610-943e-46f1-ab48-cc31ac33cdbc",
   "metadata": {},
   "outputs": [],
   "source": [
    "def ssim_metric(y_true, y_pred, max_val=1.0):\n",
    "    C1 = (0.01 * max_val) ** 2\n",
    "    C2 = (0.03 * max_val) ** 2\n",
    "\n",
    "    mu_true = tf.reduce_mean(y_true)\n",
    "    mu_pred = tf.reduce_mean(y_pred)\n",
    "\n",
    "    sigma_true = tf.reduce_mean(tf.square(y_true - mu_true))\n",
    "    sigma_pred = tf.reduce_mean(tf.square(y_pred - mu_pred))\n",
    "    sigma_true_pred = tf.reduce_mean((y_true - mu_true) * (y_pred - mu_pred))\n",
    "\n",
    "    ssim_numerator = (2 * mu_true * mu_pred + C1) * (2 * sigma_true_pred + C2)\n",
    "    ssim_denominator = (mu_true ** 2 + mu_pred ** 2 + C1) * (sigma_true + sigma_pred + C2)\n",
    "    ssim = ssim_numerator / ssim_denominator\n",
    "    return ssim"
   ]
  },
  {
   "cell_type": "code",
   "execution_count": null,
   "id": "5c9dceef-2334-47d3-a09c-c19ca518cbc8",
   "metadata": {},
   "outputs": [],
   "source": [
    "model.compile(\n",
    "    optimizer = optimizers.Adam(learning_rate=0.001),\n",
    "    loss = \"mean_absolute_error\",\n",
    "    metrics = [ssim_metric, psnr_metric]\n",
    ")"
   ]
  },
  {
   "cell_type": "code",
   "execution_count": null,
   "id": "26526855-5db0-4277-8a18-1e5b54ae297c",
   "metadata": {},
   "outputs": [],
   "source": [
    "history = model.fit(\n",
    "    train_low_images,\n",
    "    train_high_images,\n",
    "    epochs = 100,\n",
    "    batch_size = 16,\n",
    "    validation_data=(test_low_images, test_high_images),\n",
    "    verbose = 1\n",
    ")"
   ]
  },
  {
   "cell_type": "markdown",
   "id": "94746d86-c00e-4818-a883-2ef7d083c172",
   "metadata": {},
   "source": [
    "# Results"
   ]
  },
  {
   "cell_type": "code",
   "execution_count": null,
   "id": "9fc1f7c8-f113-4a8e-b741-03f47fe0908e",
   "metadata": {},
   "outputs": [],
   "source": [
    "history_df = pd.DataFrame(history.history)\n",
    "history_df.head()"
   ]
  },
  {
   "cell_type": "code",
   "execution_count": null,
   "id": "261bc26e-6493-45f2-a5f9-5f55e4d9e64f",
   "metadata": {},
   "outputs": [],
   "source": [
    "plt.figure()\n",
    "plt.plot(history.history[\"loss\"])\n",
    "plt.plot(history.history[\"val_loss\"])\n",
    "plt.xlabel(\"Epoch\")\n",
    "plt.ylabel(\"Loss\")\n",
    "plt.title(\"Loss Curve\")\n",
    "plt.legend([\"train\", \"valid\"])\n",
    "plt.show()"
   ]
  },
  {
   "cell_type": "code",
   "execution_count": null,
   "id": "7192888d-5eff-4329-9adc-2706d47d8e42",
   "metadata": {},
   "outputs": [],
   "source": [
    "plt.figure()\n",
    "plt.plot(history.history[\"accuracy\"])\n",
    "plt.plot(history.history[\"val_accuracy\"])\n",
    "plt.xlabel(\"Epoch\")\n",
    "plt.ylabel(\"Accuracy\")\n",
    "plt.title(\"Accuracy Curve\")\n",
    "plt.legend([\"train\", \"valid\"])\n",
    "plt.show()"
   ]
  },
  {
   "cell_type": "code",
   "execution_count": null,
   "id": "a1e4b99d-36c5-4ef7-9df0-abc1041a6921",
   "metadata": {},
   "outputs": [],
   "source": [
    "def predict_images(test_low, test_high, count=5, size=224):\n",
    "    for _ in range(count):\n",
    "        random_idx = np.random.randint(len(test_low))\n",
    "        predicted = model.predict(test_low[random_idx].reshape(1, size, size, 3), verbose=0)\n",
    "        predicted = np.clip(predicted, 0.0, 1.0).reshape(size, size, 3)\n",
    "        \n",
    "        fig, axes = plt.subplots(nrows=1, ncols=3, figsize=(10, 5))\n",
    "        \n",
    "        axes[0].imshow(test_low[random_idx])\n",
    "        axes[0].set_title(\"Low-Resolution Image\")\n",
    "        axes[0].axis(\"off\")\n",
    "        \n",
    "        axes[1].imshow(test_high[random_idx])\n",
    "        axes[1].set_title(\"Ground Truth\")\n",
    "        axes[1].axis(\"off\")\n",
    "\n",
    "        axes[2].imshow(predicted)\n",
    "        axes[2].set_title(\"Enhanced Image\")\n",
    "        axes[2].axis(\"off\")\n",
    "        \n",
    "        plt.show()"
   ]
  },
  {
   "cell_type": "code",
   "execution_count": null,
   "id": "98634879-dfba-4b4a-9cda-530e17e20575",
   "metadata": {},
   "outputs": [],
   "source": [
    "predict_images(test_low_images, test_high_images, count=5, size=SIZE)"
   ]
  },
  {
   "cell_type": "code",
   "execution_count": null,
   "id": "ce38590f-c893-4d11-85da-9bb569ca6947",
   "metadata": {},
   "outputs": [],
   "source": []
  }
 ],
 "metadata": {
  "kernelspec": {
   "display_name": "Python 3 (ipykernel)",
   "language": "python",
   "name": "python3"
  },
  "language_info": {
   "codemirror_mode": {
    "name": "ipython",
    "version": 3
   },
   "file_extension": ".py",
   "mimetype": "text/x-python",
   "name": "python",
   "nbconvert_exporter": "python",
   "pygments_lexer": "ipython3",
   "version": "3.10.12"
  }
 },
 "nbformat": 4,
 "nbformat_minor": 5
}
